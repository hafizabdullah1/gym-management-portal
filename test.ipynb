{
 "cells": [
  {
   "cell_type": "code",
   "execution_count": 21,
   "metadata": {},
   "outputs": [
    {
     "name": "stdout",
     "output_type": "stream",
     "text": [
      "Today date:  2024-08-04\n",
      "Fee date: 2024-08-04\n",
      "Due date passed: False\n"
     ]
    }
   ],
   "source": [
    "import datetime\n",
    "\n",
    "today = datetime.date.today()\n",
    "fee_date = today - datetime.timedelta(days=27)\n",
    "\n",
    "# fee_date = member.fee_date\n",
    "\n",
    "is_due_date_passed = fee_date.day < today.day\n",
    "\n",
    "print('Today date: ',today)\n",
    "print('Fee date:',fee_date + datetime.timedelta(days=27))\n",
    "\n",
    "print('Due date passed:',is_due_date_passed)\n"
   ]
  },
  {
   "cell_type": "code",
   "execution_count": null,
   "metadata": {},
   "outputs": [],
   "source": [
    "\n",
    "\n",
    "# fee_date = today - datetime.timedelta(days=27)\n",
    "\n",
    "    # fee_date = member.fee_date\n",
    "\n",
    "    # is_due_date_passed = fee_date.day < today.day\n",
    "\n",
    "    # print('Today date: ',today.day)\n",
    "    # print('Member date:',fee_date.day)\n",
    "\n",
    "    # print('Due date passed:',is_due_date_passed)\n",
    "    # all_members = Members.objects.all() \n",
    "\n",
    "    # for member in all_members:\n",
    "    #     # next_month_date = member.fee_date + relativedelta(months=1)\n",
    "    #     next_month_date = member.fee_date + datetime.timedelta(days=27)\n",
    "        "
   ]
  },
  {
   "cell_type": "code",
   "execution_count": null,
   "metadata": {},
   "outputs": [],
   "source": []
  }
 ],
 "metadata": {
  "kernelspec": {
   "display_name": "env",
   "language": "python",
   "name": "python3"
  },
  "language_info": {
   "codemirror_mode": {
    "name": "ipython",
    "version": 3
   },
   "file_extension": ".py",
   "mimetype": "text/x-python",
   "name": "python",
   "nbconvert_exporter": "python",
   "pygments_lexer": "ipython3",
   "version": "3.12.4"
  }
 },
 "nbformat": 4,
 "nbformat_minor": 2
}
